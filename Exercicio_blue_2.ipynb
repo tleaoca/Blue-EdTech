{
  "nbformat": 4,
  "nbformat_minor": 0,
  "metadata": {
    "colab": {
      "name": "Exercicio_blue_2.ipynb",
      "provenance": [],
      "authorship_tag": "ABX9TyNfSsfqeWYnQvq0PgnCRuvM",
      "include_colab_link": true
    },
    "kernelspec": {
      "name": "python3",
      "display_name": "Python 3"
    },
    "language_info": {
      "name": "python"
    }
  },
  "cells": [
    {
      "cell_type": "markdown",
      "metadata": {
        "id": "view-in-github",
        "colab_type": "text"
      },
      "source": [
        "<a href=\"https://colab.research.google.com/github/tleaoca/blue/blob/main/Exercicio_blue_2.ipynb\" target=\"_parent\"><img src=\"https://colab.research.google.com/assets/colab-badge.svg\" alt=\"Open In Colab\"/></a>"
      ]
    },
    {
      "cell_type": "code",
      "metadata": {
        "colab": {
          "base_uri": "https://localhost:8080/"
        },
        "id": "u5R59QEKrEwm",
        "outputId": "1ab6f270-de7d-488d-e035-5c889f851fb7"
      },
      "source": [
        "n1 = int(input('Primeiro número: '))\n",
        "n2 = int(input('Segundo número: '))\n",
        "n3 = int(input('Terceiro número: '))\n",
        "maior = n1\n",
        "segundomaior = n1\n",
        "if n2>maior:\n",
        "  maior = n2\n",
        "if n3>maior:\n",
        "  maior = n3\n",
        "print(f'O maior número é: {maior}')\n",
        "if n2<maior and n2>segundomaior:\n",
        " segundomaior = n2\n",
        "if n3>segundomaior and n3<maior:\n",
        " segundomaior = n3\n",
        "print(f'O segundo maior número é: {segundomaior}')"
      ],
      "execution_count": 24,
      "outputs": [
        {
          "output_type": "stream",
          "text": [
            "Primeiro número: 1\n",
            "Segundo número: 22222\n",
            "Terceiro número: 22\n",
            "O maior número é: 22222\n",
            "O segundo maior número é: 22\n"
          ],
          "name": "stdout"
        }
      ]
    },
    {
      "cell_type": "code",
      "metadata": {
        "id": "F32OdiArShi2"
      },
      "source": [
        ""
      ],
      "execution_count": 7,
      "outputs": []
    }
  ]
}