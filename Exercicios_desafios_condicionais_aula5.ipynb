{
  "nbformat": 4,
  "nbformat_minor": 0,
  "metadata": {
    "colab": {
      "name": "Cópia_de_Exercicios_desafios_condicionais_aula5.ipynb",
      "provenance": [],
      "collapsed_sections": [],
      "include_colab_link": true
    },
    "kernelspec": {
      "name": "python3",
      "display_name": "Python 3"
    },
    "language_info": {
      "name": "python"
    }
  },
  "cells": [
    {
      "cell_type": "markdown",
      "metadata": {
        "id": "view-in-github",
        "colab_type": "text"
      },
      "source": [
        "<a href=\"https://colab.research.google.com/github/tleaoca/blue/blob/main/Exercicios_desafios_condicionais_aula5.ipynb\" target=\"_parent\"><img src=\"https://colab.research.google.com/assets/colab-badge.svg\" alt=\"Open In Colab\"/></a>"
      ]
    },
    {
      "cell_type": "markdown",
      "metadata": {
        "id": "tfU9qd8OOh3Y"
      },
      "source": [
        "Exercício 1: Faça um Programa que leia três números inteiros, em seguida mostre o maior e o menor deles.\n"
      ]
    },
    {
      "cell_type": "code",
      "metadata": {
        "id": "M6y0oSsIJoCE",
        "colab": {
          "base_uri": "https://localhost:8080/"
        },
        "outputId": "3286509b-72cf-4baa-8d01-92c9edc19dac"
      },
      "source": [
        "n1 = int(input('Numero 1: '))\n",
        "n2 = int(input('Numero 2: '))\n",
        "n3 = int(input('Numero 3: '))\n",
        "maior = n1\n",
        "menor = n1\n",
        "if n2>n1:\n",
        "  maior = n2\n",
        "if n3>n1 and n3>n2:\n",
        "  maior = n3\n",
        "print(f'Maior numero: {maior} ')\n",
        "if n2<n1 and n2<n3:\n",
        "  menor = n2\n",
        "if n3<n1 and n3<n2:\n",
        "  menor = n3\n",
        "print(f'Menor numero: {menor} ')"
      ],
      "execution_count": 7,
      "outputs": [
        {
          "output_type": "stream",
          "text": [
            "Numero 1: 20\n",
            "Numero 2: 1\n",
            "Numero 3: 50\n",
            "Maior numero: 50 \n",
            "Menor numero: 1 \n"
          ],
          "name": "stdout"
        }
      ]
    },
    {
      "cell_type": "markdown",
      "metadata": {
        "id": "bSsK3qSMOevp"
      },
      "source": [
        "**Exercício 2 - Faça um programa que peça dois números e imprima o maior deles.**"
      ]
    },
    {
      "cell_type": "code",
      "metadata": {
        "id": "0va9UlagJohH",
        "colab": {
          "base_uri": "https://localhost:8080/"
        },
        "outputId": "2029fcf5-d6e2-41dc-9c13-9f92d70b6ad8"
      },
      "source": [
        "n1 = int(input('Numero 1: '))\n",
        "n2 = int(input('Numero 2: '))\n",
        "maior = n1\n",
        "menor = n1\n",
        "if n2>n1:\n",
        "  maior = n2\n",
        "print(f'Maior numero: {maior} ')"
      ],
      "execution_count": 8,
      "outputs": [
        {
          "output_type": "stream",
          "text": [
            "Numero 1: 10\n",
            "Numero 2: 20\n",
            "Maior numero: 20 \n"
          ],
          "name": "stdout"
        }
      ]
    },
    {
      "cell_type": "markdown",
      "metadata": {
        "id": "7LgzHMqUOmX_"
      },
      "source": [
        "Exercício 3 - Faça um script que peça um valor e mostre na tela se o valor é positivo ou negativo."
      ]
    },
    {
      "cell_type": "code",
      "metadata": {
        "id": "pM9hru6wJpN5",
        "colab": {
          "base_uri": "https://localhost:8080/"
        },
        "outputId": "7c4e2c98-d269-485e-dda5-4aacec048574"
      },
      "source": [
        "n = float(input('Digite um numero:'))\n",
        "if n>0:\n",
        "  print('Positivo')\n",
        "else:\n",
        "  print('Negativo')"
      ],
      "execution_count": 12,
      "outputs": [
        {
          "output_type": "stream",
          "text": [
            "Digite um numero:-3.5\n",
            "Negativo\n"
          ],
          "name": "stdout"
        }
      ]
    },
    {
      "cell_type": "markdown",
      "metadata": {
        "id": "nK4P9Qy1OnbL"
      },
      "source": [
        "Exercício 4 - Crie um programa que verifique se uma letra digitada é \"F\" ou \"M\". Conforme a letra escrever: F - Feminino, M - Masculino, Sexo Inválido."
      ]
    },
    {
      "cell_type": "code",
      "metadata": {
        "id": "g-9Tll_kJphc"
      },
      "source": [
        "letra = input('Digite a letra: ')\n",
        "if letra == 'F':\n",
        "  print('Feminino') \n",
        "if letra == 'M':\n",
        "  print('Masculino')\n",
        "else:\n",
        "  print('Sexo Inválio')\n",
        "quit()"
      ],
      "execution_count": null,
      "outputs": []
    },
    {
      "cell_type": "markdown",
      "metadata": {
        "id": "SfNlQyyKOp1S"
      },
      "source": [
        "Exercício 5 - Crie um programa em Python que peça a nota do aluno, que deve ser um float entre 0.00 e 10.0\n",
        "    • Se a nota for menor que 6.0, deve exibir a nota F.\n",
        "    • Se a nota for de 6.0 até 7.0, deve exibir a nota D.\n",
        "    • Se a nota for entre 7.0 e 8.0, deve exibir a nota C.\n",
        "    • Se a nota for entre 8.0 e 9.0, deve exibir a nota B.\n",
        "    • Por fim, se for entre 9.0 e 10.0, deve exibir um belo de um A."
      ]
    },
    {
      "cell_type": "code",
      "metadata": {
        "id": "caUKaqZYJp-K"
      },
      "source": [
        ""
      ],
      "execution_count": null,
      "outputs": []
    },
    {
      "cell_type": "markdown",
      "metadata": {
        "id": "S0tjDFr2OuPW"
      },
      "source": [
        "Exercício 6 - Faça um Programa que verifique se uma letra digitada é vogal ou consoante."
      ]
    },
    {
      "cell_type": "code",
      "metadata": {
        "id": "mh6l9n1_JqUa"
      },
      "source": [
        ""
      ],
      "execution_count": null,
      "outputs": []
    },
    {
      "cell_type": "markdown",
      "metadata": {
        "id": "-SYJhM3gOuuI"
      },
      "source": [
        "# **PROJETO 1**\n",
        "Resultado da primeira/segunda aula em Python:\n",
        "    • Escreva um programa que receba uma string digitada pelo usuário;\n",
        "    • Caso a string seja \"medieval\", exiba no console \"espada\";\n",
        "    • Caso contrário, se a string for \"futurista\", exiba no console \"sabre de luz\";\n",
        "    • Caso contrário, exiba no console \"Tente novamente\""
      ]
    },
    {
      "cell_type": "code",
      "metadata": {
        "id": "wVVF2ldXJq1Z"
      },
      "source": [
        ""
      ],
      "execution_count": null,
      "outputs": []
    },
    {
      "cell_type": "markdown",
      "metadata": {
        "id": "lcu0VZ8zPuKd"
      },
      "source": [
        "# **Continuação do PROJETO 1**\n",
        "    • Escreva um programa que receba um ataque de espada ou sabre digitada pelo usuário;\n",
        "    • Caso o ataque seja \"espada\", exiba no console \"VOCÊ AINDA NÃO MATOU O CHEFÃO\";\n",
        "    • Caso contrário, se o ataque for \"sabre\", exiba no console \"VOCÊ DERROTOU O CHEFÃO COM O SABRE DE LUZ\";\n",
        "    • Caso contrário, exiba no console \"ATAQUE NOVAMENTE\""
      ]
    },
    {
      "cell_type": "code",
      "metadata": {
        "id": "jupTvz8nJsGy"
      },
      "source": [
        ""
      ],
      "execution_count": null,
      "outputs": []
    },
    {
      "cell_type": "markdown",
      "metadata": {
        "id": "2qAqfZPsRpFr"
      },
      "source": [
        "# **DESAFIO**\n",
        "As empresas @.com resolveram dar um aumento de salário aos seus colaboradores e lhe contrataram para desenvolver o programa que calculará os reajustes.\n",
        "\n",
        "Faça um programa que recebe o salário de um colaborador e o reajuste segundo o seguinte critério, baseado no salário atual:\n",
        "    • salários até R$ 280,00 (incluindo) : aumento de 20%\n",
        "    • salários entre R$ 280,00 e R$ 700,00 : aumento de 15%\n",
        "    • salários entre R$ 700,00 e R$ 1500,00 : aumento de 10%\n",
        "    • salários de R$ 1500,00 em diante : aumento de 5%\n",
        "Após o aumento ser realizado, informe na tela:\n",
        "    • o salário antes do reajuste;\n",
        "    • o percentual de aumento aplicado;\n",
        "    • o valor do aumento;\n",
        "    • o novo salário, após o aumento.\""
      ]
    },
    {
      "cell_type": "code",
      "metadata": {
        "id": "ajbIH8WHJsv-"
      },
      "source": [
        ""
      ],
      "execution_count": null,
      "outputs": []
    },
    {
      "cell_type": "markdown",
      "metadata": {
        "id": "W0Z9cw8-K_dZ"
      },
      "source": [
        "# **DESAFIO**\n",
        "Faça um Programa para um caixa eletrônico. O programa deverá perguntar ao usuário a valor do saque e depois informar quantas notas de cada valor serão fornecidas. As notas disponíveis serão as de 1, 5, 10, 50 e 100 reais. O valor mínimo é de 10 reais e o máximo de 600 reais. O programa não deve se preocupar com a quantidade de notas existentes na máquina.\n",
        "    • Exemplo 1: Para sacar a quantia de 256 reais, o programa fornece duas notas de 100, uma nota de 50, uma nota de 5 e uma nota de 1;\n",
        "    • Exemplo 2: Para sacar a quantia de 399 reais, o programa fornece três notas de 100, uma nota de 50, quatro notas de 10, uma nota de 5 e quatro notas de 1."
      ]
    },
    {
      "cell_type": "code",
      "metadata": {
        "id": "47vmEVi1JtSw"
      },
      "source": [
        ""
      ],
      "execution_count": null,
      "outputs": []
    }
  ]
}