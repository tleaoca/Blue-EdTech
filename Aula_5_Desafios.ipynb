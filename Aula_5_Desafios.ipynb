{
  "nbformat": 4,
  "nbformat_minor": 0,
  "metadata": {
    "colab": {
      "name": "Aula 5 - Desafios.ipynb",
      "provenance": [],
      "collapsed_sections": [],
      "include_colab_link": true
    },
    "kernelspec": {
      "name": "python3",
      "display_name": "Python 3"
    },
    "language_info": {
      "name": "python"
    }
  },
  "cells": [
    {
      "cell_type": "markdown",
      "metadata": {
        "id": "view-in-github",
        "colab_type": "text"
      },
      "source": [
        "<a href=\"https://colab.research.google.com/github/tleaoca/blue/blob/main/Aula_5_Desafios.ipynb\" target=\"_parent\"><img src=\"https://colab.research.google.com/assets/colab-badge.svg\" alt=\"Open In Colab\"/></a>"
      ]
    },
    {
      "cell_type": "markdown",
      "metadata": {
        "id": "tfU9qd8OOh3Y"
      },
      "source": [
        "Exercício 1: Faça um Programa que leia três números inteiros, em seguida mostre o maior e o menor deles.\n"
      ]
    },
    {
      "cell_type": "code",
      "metadata": {
        "id": "M6y0oSsIJoCE",
        "colab": {
          "base_uri": "https://localhost:8080/"
        },
        "outputId": "3286509b-72cf-4baa-8d01-92c9edc19dac"
      },
      "source": [
        "n1 = int(input('Numero 1: '))\n",
        "n2 = int(input('Numero 2: '))\n",
        "n3 = int(input('Numero 3: '))\n",
        "maior = n1\n",
        "menor = n1\n",
        "if n2>n1:\n",
        "  maior = n2\n",
        "if n3>n1 and n3>n2:\n",
        "  maior = n3\n",
        "print(f'Maior numero: {maior} ')\n",
        "if n2<n1 and n2<n3:\n",
        "  menor = n2\n",
        "if n3<n1 and n3<n2:\n",
        "  menor = n3\n",
        "print(f'Menor numero: {menor} ')"
      ],
      "execution_count": null,
      "outputs": [
        {
          "output_type": "stream",
          "text": [
            "Numero 1: 20\n",
            "Numero 2: 1\n",
            "Numero 3: 50\n",
            "Maior numero: 50 \n",
            "Menor numero: 1 \n"
          ],
          "name": "stdout"
        }
      ]
    },
    {
      "cell_type": "markdown",
      "metadata": {
        "id": "bSsK3qSMOevp"
      },
      "source": [
        "**Exercício 2 - Faça um programa que peça dois números e imprima o maior deles.**"
      ]
    },
    {
      "cell_type": "code",
      "metadata": {
        "id": "0va9UlagJohH",
        "colab": {
          "base_uri": "https://localhost:8080/"
        },
        "outputId": "2029fcf5-d6e2-41dc-9c13-9f92d70b6ad8"
      },
      "source": [
        "n1 = int(input('Numero 1: '))\n",
        "n2 = int(input('Numero 2: '))\n",
        "maior = n1\n",
        "menor = n1\n",
        "if n2>n1:\n",
        "  maior = n2\n",
        "print(f'Maior numero: {maior} ')"
      ],
      "execution_count": null,
      "outputs": [
        {
          "output_type": "stream",
          "text": [
            "Numero 1: 10\n",
            "Numero 2: 20\n",
            "Maior numero: 20 \n"
          ],
          "name": "stdout"
        }
      ]
    },
    {
      "cell_type": "markdown",
      "metadata": {
        "id": "7LgzHMqUOmX_"
      },
      "source": [
        "Exercício 3 - Faça um script que peça um valor e mostre na tela se o valor é positivo ou negativo."
      ]
    },
    {
      "cell_type": "code",
      "metadata": {
        "id": "pM9hru6wJpN5",
        "colab": {
          "base_uri": "https://localhost:8080/"
        },
        "outputId": "7c4e2c98-d269-485e-dda5-4aacec048574"
      },
      "source": [
        "n = float(input('Digite um numero:'))\n",
        "if n>0:\n",
        "  print('Positivo')\n",
        "else:\n",
        "  print('Negativo')"
      ],
      "execution_count": null,
      "outputs": [
        {
          "output_type": "stream",
          "text": [
            "Digite um numero:-3.5\n",
            "Negativo\n"
          ],
          "name": "stdout"
        }
      ]
    },
    {
      "cell_type": "markdown",
      "metadata": {
        "id": "nK4P9Qy1OnbL"
      },
      "source": [
        "Exercício 4 - Crie um programa que verifique se uma letra digitada é \"F\" ou \"M\". Conforme a letra escrever: F - Feminino, M - Masculino, Sexo Inválido."
      ]
    },
    {
      "cell_type": "code",
      "metadata": {
        "id": "g-9Tll_kJphc",
        "colab": {
          "base_uri": "https://localhost:8080/"
        },
        "outputId": "9bb3bbcf-3ac9-4f2b-b937-677830b6d22a"
      },
      "source": [
        "letra = input('Digite a letra: ').upper()\n",
        "if letra == 'F':\n",
        "  print('Feminino') \n",
        "if letra == 'M':\n",
        "  print('Masculino')\n",
        "elif letra != 'F' and 'M':\n",
        "  print('Sexo Inválio')"
      ],
      "execution_count": 19,
      "outputs": [
        {
          "output_type": "stream",
          "text": [
            "Digite a letra: m\n",
            "Masculino\n"
          ],
          "name": "stdout"
        }
      ]
    },
    {
      "cell_type": "markdown",
      "metadata": {
        "id": "SfNlQyyKOp1S"
      },
      "source": [
        "Exercício 5 - Crie um programa em Python que peça a nota do aluno, que deve ser um float entre 0.00 e 10.0\n",
        "    • Se a nota for menor que 6.0, deve exibir a nota F.\n",
        "    • Se a nota for de 6.0 até 7.0, deve exibir a nota D.\n",
        "    • Se a nota for entre 7.0 e 8.0, deve exibir a nota C.\n",
        "    • Se a nota for entre 8.0 e 9.0, deve exibir a nota B.\n",
        "    • Por fim, se for entre 9.0 e 10.0, deve exibir um belo de um A."
      ]
    },
    {
      "cell_type": "code",
      "metadata": {
        "id": "caUKaqZYJp-K",
        "colab": {
          "base_uri": "https://localhost:8080/"
        },
        "outputId": "775c8da8-9f87-47a5-d27f-b971fd0855cb"
      },
      "source": [
        "nota = float(input('Digite a nota de 1 a 10: '))\n",
        "if nota >= 0 and nota <= 10:\n",
        "  if nota < 6:\n",
        "    print('F')\n",
        "  if nota >= 6 and nota < 7:\n",
        "    print('D')\n",
        "  if nota >= 7 and nota < 8:\n",
        "    print('C')\n",
        "  if nota >= 8 and nota < 9:\n",
        "    print('B')\n",
        "  if nota >= 9 and nota <= 10:\n",
        "    print('A')\n",
        "else:\n",
        "  print('Nota invalida')"
      ],
      "execution_count": null,
      "outputs": [
        {
          "output_type": "stream",
          "text": [
            "Digite a nota de 1 a 10: 10\n",
            "A\n"
          ],
          "name": "stdout"
        }
      ]
    },
    {
      "cell_type": "markdown",
      "metadata": {
        "id": "S0tjDFr2OuPW"
      },
      "source": [
        "Exercício 6 - Faça um Programa que verifique se uma letra digitada é vogal ou consoante."
      ]
    },
    {
      "cell_type": "code",
      "metadata": {
        "id": "mh6l9n1_JqUa",
        "colab": {
          "base_uri": "https://localhost:8080/"
        },
        "outputId": "ea307215-aa90-4cb0-d4f5-fd0464f307d4"
      },
      "source": [
        "letra = input('Qual a letra?: ').lower()\n",
        "if letra in ('aeioubcdfghjklmnpqrstvwxyz'):\n",
        "  if letra in ('aeiou'):\n",
        "    print('Vogal')\n",
        "  if letra in ('bcdfghjklmnpqrstvwxyz'):\n",
        "    print('Consoante')\n",
        "else:\n",
        "  print('Não e uma letra')"
      ],
      "execution_count": 18,
      "outputs": [
        {
          "output_type": "stream",
          "text": [
            "Qual a letra?: A\n",
            "Vogal\n"
          ],
          "name": "stdout"
        }
      ]
    },
    {
      "cell_type": "markdown",
      "metadata": {
        "id": "-SYJhM3gOuuI"
      },
      "source": [
        "# **PROJETO 1**\n",
        "Resultado da primeira/segunda aula em Python:\n",
        "    • Escreva um programa que receba uma string digitada pelo usuário;\n",
        "    • Caso a string seja \"medieval\", exiba no console \"espada\";\n",
        "    • Caso contrário, se a string for \"futurista\", exiba no console \"sabre de luz\";\n",
        "    • Caso contrário, exiba no console \"Tente novamente\""
      ]
    },
    {
      "cell_type": "code",
      "metadata": {
        "id": "wVVF2ldXJq1Z",
        "colab": {
          "base_uri": "https://localhost:8080/"
        },
        "outputId": "771f1481-2c82-47f1-a297-86d1be278cef"
      },
      "source": [
        "tipoarma = input('Qual era - medieval ou futurista? ').lower()\n",
        "if tipoarma in ('medieval','futurista'):\n",
        "  if tipoarma == 'medieval':\n",
        "   print('Espada')\n",
        "  if tipoarma == 'futurista':\n",
        "    print('Sabre de luz')\n",
        "else:\n",
        "  print('Tente novamente')"
      ],
      "execution_count": 13,
      "outputs": [
        {
          "output_type": "stream",
          "text": [
            "Qual era - medieval ou futurista? medieval\n",
            "Espada\n"
          ],
          "name": "stdout"
        }
      ]
    },
    {
      "cell_type": "markdown",
      "metadata": {
        "id": "lcu0VZ8zPuKd"
      },
      "source": [
        "# **Continuação do PROJETO 1**\n",
        "    • Escreva um programa que receba um ataque de espada ou sabre digitada pelo usuário;\n",
        "    • Caso o ataque seja \"espada\", exiba no console \"VOCÊ AINDA NÃO MATOU O CHEFÃO\";\n",
        "    • Caso contrário, se o ataque for \"sabre\", exiba no console \"VOCÊ DERROTOU O CHEFÃO COM O SABRE DE LUZ\";\n",
        "    • Caso contrário, exiba no console \"ATAQUE NOVAMENTE\""
      ]
    },
    {
      "cell_type": "code",
      "metadata": {
        "id": "jupTvz8nJsGy",
        "colab": {
          "base_uri": "https://localhost:8080/"
        },
        "outputId": "0a34b288-62a7-42d9-d203-ba78fa3956c5"
      },
      "source": [
        "ataque = input('Qual o tipo de ataque - espada ou sabre? ')\n",
        "ataque = ataque.lower()\n",
        "if ataque in ('espada','sabre'):\n",
        "  if ataque == 'espada':\n",
        "   print('Você ainda não matou o chefão.')\n",
        "  if ataque == 'sabre':\n",
        "    print('Você derrotou o chefão com o sabre de luz')\n",
        "else:\n",
        "  print('Ataque novamente')"
      ],
      "execution_count": null,
      "outputs": [
        {
          "output_type": "stream",
          "text": [
            "Qual o tipo de ataque - espada ou sabre? Sabre\n",
            "Você derrotou o chefão com o sabre de luz\n"
          ],
          "name": "stdout"
        }
      ]
    },
    {
      "cell_type": "markdown",
      "metadata": {
        "id": "2qAqfZPsRpFr"
      },
      "source": [
        "# **DESAFIO**\n",
        "As empresas @.com resolveram dar um aumento de salário aos seus colaboradores e lhe contrataram para desenvolver o programa que calculará os reajustes.\n",
        "\n",
        "Faça um programa que recebe o salário de um colaborador e o reajuste segundo o seguinte critério, baseado no salário atual:\n",
        "    • salários até R$ 280,00 (incluindo) : aumento de 20%\n",
        "    • salários entre R$ 280,00 e R$ 700,00 : aumento de 15%\n",
        "    • salários entre R$ 700,00 e R$ 1500,00 : aumento de 10%\n",
        "    • salários de R$ 1500,00 em diante : aumento de 5%\n",
        "Após o aumento ser realizado, informe na tela:\n",
        "    • o salário antes do reajuste;\n",
        "    • o percentual de aumento aplicado;\n",
        "    • o valor do aumento;\n",
        "    • o novo salário, após o aumento.\""
      ]
    },
    {
      "cell_type": "code",
      "metadata": {
        "id": "ajbIH8WHJsv-",
        "colab": {
          "base_uri": "https://localhost:8080/"
        },
        "outputId": "999779da-2d4f-4b29-d819-3c0fe830b36c"
      },
      "source": [
        "salario = float(input('Digite o salario: '))\n",
        "if salario <= 280:\n",
        "  reajuste = 0.2\n",
        "if salario > 280 and salario <= 700:\n",
        "  reajuste = 0.15\n",
        "if salario > 700 and salario <= 1500:\n",
        "  reajuste = 0.10\n",
        "if salario > 1500:\n",
        "  reajuste = 0.05\n",
        "\n",
        "novo_salario = (salario * reajuste) + salario\n",
        "aumento = novo_salario - salario\n",
        "reajuste_percentual = reajuste*100\n",
        "print(f'\\nSalario antes do reajuste: R${salario}')\n",
        "print(f'Reajuste: {reajuste_percentual}%')\n",
        "print(f'Valor do aumento: R${aumento}')\n",
        "print(f'Novo salario: R${novo_salario}')"
      ],
      "execution_count": null,
      "outputs": [
        {
          "output_type": "stream",
          "text": [
            "Digite o salario: 280\n",
            "\n",
            "Salario antes do reajuste: R$280.0\n",
            "Reajuste: 20.0%\n",
            "Valor do aumento: R$56.0\n",
            "Novo salario: R$336.0\n"
          ],
          "name": "stdout"
        }
      ]
    },
    {
      "cell_type": "markdown",
      "metadata": {
        "id": "W0Z9cw8-K_dZ"
      },
      "source": [
        "# **DESAFIO**\n",
        "Faça um Programa para um caixa eletrônico. O programa deverá perguntar ao usuário a valor do saque e depois informar quantas notas de cada valor serão fornecidas. As notas disponíveis serão as de 1, 5, 10, 50 e 100 reais. O valor mínimo é de 10 reais e o máximo de 600 reais. O programa não deve se preocupar com a quantidade de notas existentes na máquina.\n",
        "    • Exemplo 1: Para sacar a quantia de 256 reais, o programa fornece duas notas de 100, uma nota de 50, uma nota de 5 e uma nota de 1;\n",
        "    • Exemplo 2: Para sacar a quantia de 399 reais, o programa fornece três notas de 100, uma nota de 50, quatro notas de 10, uma nota de 5 e quatro notas de 1."
      ]
    },
    {
      "cell_type": "code",
      "metadata": {
        "id": "47vmEVi1JtSw",
        "colab": {
          "base_uri": "https://localhost:8080/"
        },
        "outputId": "82a11f2e-bf7f-455f-8bf4-d0c02400318e"
      },
      "source": [
        "valor_saque = int(input('Qual o valor de saque - R$10 a R$600: R$'))\n",
        "if valor_saque >=10 and valor_saque <= 600:\n",
        "  notas100 = valor_saque // 100\n",
        "  notas50 = valor_saque % 100 // 50\n",
        "  notas10 = valor_saque % 50 // 10\n",
        "  notas5 = valor_saque % 10 // 5\n",
        "  notas1 = valor_saque % 10 // 1\n",
        "  print(f'Para sacar a quantia R${valor_saque}, o programa fornecera {notas100} notas de R$100, {notas50} notas de R$50, {notas10} notas de R$10, {notas5} notas de R$5, {notas1} notas de R$1.')   \n",
        "else:\n",
        "   print('Valor invalido')\n"
      ],
      "execution_count": 8,
      "outputs": [
        {
          "output_type": "stream",
          "text": [
            "Qual o valor de saque - R$10 a R$600: R$589\n",
            "Para sacar a quantia R$589, o programa fornecera 5 notas de R$100, 1 notas de R$50, 3 notas de R$10, 1 notas de R$5, 9 notas de R$1.\n"
          ],
          "name": "stdout"
        }
      ]
    },
    {
      "cell_type": "code",
      "metadata": {
        "id": "z4Te8JcE5M2-"
      },
      "source": [
        ""
      ],
      "execution_count": null,
      "outputs": []
    }
  ]
}